{
 "cells": [
  {
   "cell_type": "code",
   "execution_count": 1,
   "metadata": {
    "ExecuteTime": {
     "end_time": "2020-08-29T15:45:50.565219Z",
     "start_time": "2020-08-29T15:45:50.561326Z"
    }
   },
   "outputs": [],
   "source": [
    "import os,sys,inspect\n",
    "currentdir = os.path.dirname(os.path.abspath(inspect.getfile(inspect.currentframe())))\n",
    "parentdir = os.path.dirname(currentdir)\n",
    "sys.path.insert(0,parentdir)"
   ]
  },
  {
   "cell_type": "code",
   "execution_count": 2,
   "metadata": {
    "ExecuteTime": {
     "end_time": "2020-08-29T15:45:51.381536Z",
     "start_time": "2020-08-29T15:45:50.795767Z"
    }
   },
   "outputs": [
    {
     "data": {
      "text/plain": [
       "True"
      ]
     },
     "execution_count": 2,
     "metadata": {},
     "output_type": "execute_result"
    }
   ],
   "source": [
    "import src.data_loader as dl\n",
    "import src.trade as trade\n",
    "import src.metrics as metrics\n",
    "import src.cross_validation as cv\n",
    "import time\n",
    "import numpy as np\n",
    "from importlib import reload \n",
    "import src.telegram as telegram\n",
    "import os\n",
    "from dotenv import load_dotenv\n",
    "import sys\n",
    "import pandas as pd\n",
    "import src.back_test as bt\n",
    "\n",
    "load_dotenv()"
   ]
  },
  {
   "cell_type": "code",
   "execution_count": 46,
   "metadata": {
    "ExecuteTime": {
     "end_time": "2020-08-29T16:20:18.241832Z",
     "start_time": "2020-08-29T16:20:18.229114Z"
    }
   },
   "outputs": [
    {
     "data": {
      "text/plain": [
       "<module 'src.back_test' from '/Users/thiagocunha/git/LS/src/back_test.py'>"
      ]
     },
     "execution_count": 46,
     "metadata": {},
     "output_type": "execute_result"
    }
   ],
   "source": [
    "reload(cv)\n",
    "reload(bt)"
   ]
  },
  {
   "cell_type": "code",
   "execution_count": 43,
   "metadata": {
    "ExecuteTime": {
     "end_time": "2020-08-29T16:12:06.971411Z",
     "start_time": "2020-08-29T16:12:06.967502Z"
    }
   },
   "outputs": [],
   "source": [
    "SHEET_PATH = os.getenv('SHEET_PATH')"
   ]
  },
  {
   "cell_type": "code",
   "execution_count": 4,
   "metadata": {
    "ExecuteTime": {
     "end_time": "2020-08-29T15:45:53.701470Z",
     "start_time": "2020-08-29T15:45:53.696122Z"
    }
   },
   "outputs": [],
   "source": [
    "#ranges de valores\n",
    "portfolio_max_size = np.arange(2,4,1)\n",
    "dickey_fuller = np.arange(3,4,1)\n",
    "fisher = np.arange(-0.5,-0.4,0.1)\n",
    "meia_vida = [10,25]\n",
    "media_n = np.arange(0.5, 0.6, 0.1)\n",
    "desvio_padrao = np.arange(2, 2.1, 0.1)\n",
    "periodo = [100]\n",
    "variancia_beta = np.arange(0.01, 0.12, 0.1)\n",
    "dagostino_person = 0.05"
   ]
  },
  {
   "cell_type": "code",
   "execution_count": 47,
   "metadata": {
    "ExecuteTime": {
     "end_time": "2020-08-29T16:20:24.231475Z",
     "start_time": "2020-08-29T16:20:21.076234Z"
    }
   },
   "outputs": [
    {
     "name": "stdout",
     "output_type": "stream",
     "text": [
      "Intervalo do dataset: 2015-01-02 00:00:00 a 2020-07-14 00:00:00\n",
      "Shape: (9324, 27)\n"
     ]
    }
   ],
   "source": [
    "df = dl.sheet_importer(SHEET_PATH)"
   ]
  },
  {
   "cell_type": "code",
   "execution_count": 6,
   "metadata": {
    "ExecuteTime": {
     "end_time": "2020-08-29T15:46:02.602102Z",
     "start_time": "2020-08-29T15:46:02.598691Z"
    }
   },
   "outputs": [],
   "source": [
    "grid = cv.generate_grid(portfolio_max_size, dickey_fuller, fisher, meia_vida,  media_n,  desvio_padrao, periodo, variancia_beta)"
   ]
  },
  {
   "cell_type": "code",
   "execution_count": 48,
   "metadata": {
    "ExecuteTime": {
     "end_time": "2020-08-29T16:21:41.579236Z",
     "start_time": "2020-08-29T16:20:34.180050Z"
    }
   },
   "outputs": [
    {
     "name": "stdout",
     "output_type": "stream",
     "text": [
      "Total de iterações: 16\n",
      "Uso de memória: 2.304e-06 Gb\n",
      "-------------------------\n",
      "Quantidade de iterações em um ciclo: 8\n",
      "Tempo de um ciclo: 58.18 segundos\n",
      "-------------------------\n",
      "Tempo previsto da busca: 0.03 horas\n",
      "Tempo previsto da busca: 0.0 dias\n"
     ]
    }
   ],
   "source": [
    "cv.grid_search_info(df, grid, parallel=True, send_to_telegram=True)"
   ]
  },
  {
   "cell_type": "code",
   "execution_count": 36,
   "metadata": {
    "ExecuteTime": {
     "end_time": "2020-08-29T16:11:17.052057Z",
     "start_time": "2020-08-29T16:09:14.359210Z"
    }
   },
   "outputs": [
    {
     "name": "stdout",
     "output_type": "stream",
     "text": [
      "--- Inicio do Grid Search ---\n",
      "--- Fim do Grid Search ---\n"
     ]
    }
   ],
   "source": [
    "try:\n",
    "    results = cv.grid_search(df, grid, parallel=True, verbose=True, send_to_telegram=False)\n",
    "except:\n",
    "    telegram.send(\"{} ERROR: {}\".format(telegram.emoji.double_exclamation,sys.exc_info()))"
   ]
  },
  {
   "cell_type": "code",
   "execution_count": 50,
   "metadata": {
    "ExecuteTime": {
     "end_time": "2020-08-29T16:29:36.437712Z",
     "start_time": "2020-08-29T16:29:36.412468Z"
    }
   },
   "outputs": [
    {
     "data": {
      "text/html": [
       "<div>\n",
       "<style scoped>\n",
       "    .dataframe tbody tr th:only-of-type {\n",
       "        vertical-align: middle;\n",
       "    }\n",
       "\n",
       "    .dataframe tbody tr th {\n",
       "        vertical-align: top;\n",
       "    }\n",
       "\n",
       "    .dataframe thead th {\n",
       "        text-align: right;\n",
       "    }\n",
       "</style>\n",
       "<table border=\"1\" class=\"dataframe\">\n",
       "  <thead>\n",
       "    <tr style=\"text-align: right;\">\n",
       "      <th></th>\n",
       "      <th>iteracao</th>\n",
       "      <th>portfolio_max_size</th>\n",
       "      <th>dickey-fuller</th>\n",
       "      <th>fisher</th>\n",
       "      <th>meia-vida</th>\n",
       "      <th>media_n</th>\n",
       "      <th>desvio-padrao</th>\n",
       "      <th>periodo</th>\n",
       "      <th>variancia_beta</th>\n",
       "      <th>dagostino-person</th>\n",
       "      <th>n_operacoes</th>\n",
       "      <th>retorno</th>\n",
       "      <th>win_rate</th>\n",
       "      <th>pay_off</th>\n",
       "      <th>mdd</th>\n",
       "      <th>recovery_factor</th>\n",
       "    </tr>\n",
       "  </thead>\n",
       "  <tbody>\n",
       "    <tr>\n",
       "      <th>0</th>\n",
       "      <td>2</td>\n",
       "      <td>2</td>\n",
       "      <td>3</td>\n",
       "      <td>-0.5</td>\n",
       "      <td>10</td>\n",
       "      <td>0.5</td>\n",
       "      <td>2.1</td>\n",
       "      <td>100</td>\n",
       "      <td>0.01</td>\n",
       "      <td>0.05</td>\n",
       "      <td>441</td>\n",
       "      <td>33526.0</td>\n",
       "      <td>0.59</td>\n",
       "      <td>0.820</td>\n",
       "      <td>0.934</td>\n",
       "      <td>1.178</td>\n",
       "    </tr>\n",
       "    <tr>\n",
       "      <th>1</th>\n",
       "      <td>0</td>\n",
       "      <td>2</td>\n",
       "      <td>3</td>\n",
       "      <td>-0.5</td>\n",
       "      <td>10</td>\n",
       "      <td>0.5</td>\n",
       "      <td>2.0</td>\n",
       "      <td>100</td>\n",
       "      <td>0.01</td>\n",
       "      <td>0.05</td>\n",
       "      <td>469</td>\n",
       "      <td>39618.0</td>\n",
       "      <td>0.60</td>\n",
       "      <td>0.810</td>\n",
       "      <td>1.027</td>\n",
       "      <td>1.200</td>\n",
       "    </tr>\n",
       "    <tr>\n",
       "      <th>2</th>\n",
       "      <td>3</td>\n",
       "      <td>2</td>\n",
       "      <td>3</td>\n",
       "      <td>-0.5</td>\n",
       "      <td>10</td>\n",
       "      <td>0.5</td>\n",
       "      <td>2.1</td>\n",
       "      <td>100</td>\n",
       "      <td>0.11</td>\n",
       "      <td>0.05</td>\n",
       "      <td>450</td>\n",
       "      <td>39626.0</td>\n",
       "      <td>0.59</td>\n",
       "      <td>0.834</td>\n",
       "      <td>0.843</td>\n",
       "      <td>1.206</td>\n",
       "    </tr>\n",
       "    <tr>\n",
       "      <th>3</th>\n",
       "      <td>1</td>\n",
       "      <td>2</td>\n",
       "      <td>3</td>\n",
       "      <td>-0.5</td>\n",
       "      <td>10</td>\n",
       "      <td>0.5</td>\n",
       "      <td>2.0</td>\n",
       "      <td>100</td>\n",
       "      <td>0.11</td>\n",
       "      <td>0.05</td>\n",
       "      <td>474</td>\n",
       "      <td>35946.0</td>\n",
       "      <td>0.59</td>\n",
       "      <td>0.799</td>\n",
       "      <td>1.071</td>\n",
       "      <td>1.174</td>\n",
       "    </tr>\n",
       "    <tr>\n",
       "      <th>4</th>\n",
       "      <td>6</td>\n",
       "      <td>2</td>\n",
       "      <td>3</td>\n",
       "      <td>-0.5</td>\n",
       "      <td>25</td>\n",
       "      <td>0.5</td>\n",
       "      <td>2.1</td>\n",
       "      <td>100</td>\n",
       "      <td>0.01</td>\n",
       "      <td>0.05</td>\n",
       "      <td>625</td>\n",
       "      <td>15338.0</td>\n",
       "      <td>0.58</td>\n",
       "      <td>0.774</td>\n",
       "      <td>0.803</td>\n",
       "      <td>1.052</td>\n",
       "    </tr>\n",
       "  </tbody>\n",
       "</table>\n",
       "</div>"
      ],
      "text/plain": [
       "   iteracao  portfolio_max_size  dickey-fuller  fisher  meia-vida  media_n  \\\n",
       "0         2                   2              3    -0.5         10      0.5   \n",
       "1         0                   2              3    -0.5         10      0.5   \n",
       "2         3                   2              3    -0.5         10      0.5   \n",
       "3         1                   2              3    -0.5         10      0.5   \n",
       "4         6                   2              3    -0.5         25      0.5   \n",
       "\n",
       "   desvio-padrao  periodo  variancia_beta  dagostino-person  n_operacoes  \\\n",
       "0            2.1      100            0.01              0.05          441   \n",
       "1            2.0      100            0.01              0.05          469   \n",
       "2            2.1      100            0.11              0.05          450   \n",
       "3            2.0      100            0.11              0.05          474   \n",
       "4            2.1      100            0.01              0.05          625   \n",
       "\n",
       "   retorno  win_rate  pay_off    mdd  recovery_factor  \n",
       "0  33526.0      0.59    0.820  0.934            1.178  \n",
       "1  39618.0      0.60    0.810  1.027            1.200  \n",
       "2  39626.0      0.59    0.834  0.843            1.206  \n",
       "3  35946.0      0.59    0.799  1.071            1.174  \n",
       "4  15338.0      0.58    0.774  0.803            1.052  "
      ]
     },
     "execution_count": 50,
     "metadata": {},
     "output_type": "execute_result"
    }
   ],
   "source": [
    "df_results = pd.DataFrame(results)\n",
    "df_results.head()"
   ]
  },
  {
   "cell_type": "code",
   "execution_count": 52,
   "metadata": {
    "ExecuteTime": {
     "end_time": "2020-08-29T16:29:43.574149Z",
     "start_time": "2020-08-29T16:29:43.562757Z"
    }
   },
   "outputs": [],
   "source": [
    "df.to_pickle(\"./result.pkl\")"
   ]
  },
  {
   "cell_type": "code",
   "execution_count": 53,
   "metadata": {
    "ExecuteTime": {
     "end_time": "2020-08-29T16:31:23.060210Z",
     "start_time": "2020-08-29T16:31:23.049027Z"
    }
   },
   "outputs": [],
   "source": [
    "df2 = pd.read_pickle(\"./result.pkl\")\n"
   ]
  },
  {
   "cell_type": "code",
   "execution_count": 54,
   "metadata": {
    "ExecuteTime": {
     "end_time": "2020-08-29T16:31:26.372509Z",
     "start_time": "2020-08-29T16:31:26.328394Z"
    }
   },
   "outputs": [
    {
     "data": {
      "text/html": [
       "<div>\n",
       "<style scoped>\n",
       "    .dataframe tbody tr th:only-of-type {\n",
       "        vertical-align: middle;\n",
       "    }\n",
       "\n",
       "    .dataframe tbody tr th {\n",
       "        vertical-align: top;\n",
       "    }\n",
       "\n",
       "    .dataframe thead th {\n",
       "        text-align: right;\n",
       "    }\n",
       "</style>\n",
       "<table border=\"1\" class=\"dataframe\">\n",
       "  <thead>\n",
       "    <tr style=\"text-align: right;\">\n",
       "      <th></th>\n",
       "      <th>data</th>\n",
       "      <th>pares</th>\n",
       "      <th>pares_invertidos</th>\n",
       "      <th>ativo_dep</th>\n",
       "      <th>ativo_ind</th>\n",
       "      <th>dickey-fuller</th>\n",
       "      <th>adf</th>\n",
       "      <th>prop_financeiro</th>\n",
       "      <th>fisher</th>\n",
       "      <th>meia-vida</th>\n",
       "      <th>...</th>\n",
       "      <th>media_n</th>\n",
       "      <th>data_saida</th>\n",
       "      <th>in_dep</th>\n",
       "      <th>in</th>\n",
       "      <th>in.1</th>\n",
       "      <th>out</th>\n",
       "      <th>out.1</th>\n",
       "      <th>res</th>\n",
       "      <th>res.1</th>\n",
       "      <th>resultado</th>\n",
       "    </tr>\n",
       "  </thead>\n",
       "  <tbody>\n",
       "    <tr>\n",
       "      <th>0</th>\n",
       "      <td>2015-01-02</td>\n",
       "      <td>ITSA4|BBDC3</td>\n",
       "      <td>BBDC3|ITSA4</td>\n",
       "      <td>5700</td>\n",
       "      <td>-1800</td>\n",
       "      <td>3</td>\n",
       "      <td>-4.289345</td>\n",
       "      <td>1.17</td>\n",
       "      <td>0.824511</td>\n",
       "      <td>19</td>\n",
       "      <td>...</td>\n",
       "      <td>0.052786</td>\n",
       "      <td>2015-01-09</td>\n",
       "      <td>6</td>\n",
       "      <td>4.77</td>\n",
       "      <td>13.27</td>\n",
       "      <td>4.86</td>\n",
       "      <td>13.61</td>\n",
       "      <td>513.0</td>\n",
       "      <td>-612.0</td>\n",
       "      <td>-99.0</td>\n",
       "    </tr>\n",
       "    <tr>\n",
       "      <th>1</th>\n",
       "      <td>2015-01-02</td>\n",
       "      <td>IGTA3|BRML3</td>\n",
       "      <td>BRML3|IGTA3</td>\n",
       "      <td>1400</td>\n",
       "      <td>-1900</td>\n",
       "      <td>9</td>\n",
       "      <td>-6.626779</td>\n",
       "      <td>1.59</td>\n",
       "      <td>0.664409</td>\n",
       "      <td>12</td>\n",
       "      <td>...</td>\n",
       "      <td>0.281100</td>\n",
       "      <td>2015-01-05</td>\n",
       "      <td>2</td>\n",
       "      <td>21.20</td>\n",
       "      <td>9.63</td>\n",
       "      <td>21.71</td>\n",
       "      <td>9.22</td>\n",
       "      <td>714.0</td>\n",
       "      <td>779.0</td>\n",
       "      <td>1493.0</td>\n",
       "    </tr>\n",
       "    <tr>\n",
       "      <th>2</th>\n",
       "      <td>2015-01-02</td>\n",
       "      <td>RENT3|CCRO3</td>\n",
       "      <td>CCRO3|RENT3</td>\n",
       "      <td>-2900</td>\n",
       "      <td>1700</td>\n",
       "      <td>4</td>\n",
       "      <td>-4.252567</td>\n",
       "      <td>1.42</td>\n",
       "      <td>0.480409</td>\n",
       "      <td>19</td>\n",
       "      <td>...</td>\n",
       "      <td>-0.028646</td>\n",
       "      <td>2015-01-07</td>\n",
       "      <td>4</td>\n",
       "      <td>9.99</td>\n",
       "      <td>12.15</td>\n",
       "      <td>9.63</td>\n",
       "      <td>12.16</td>\n",
       "      <td>1044.0</td>\n",
       "      <td>17.0</td>\n",
       "      <td>1061.0</td>\n",
       "    </tr>\n",
       "    <tr>\n",
       "      <th>3</th>\n",
       "      <td>2015-01-02</td>\n",
       "      <td>JBSS3|TRPL4</td>\n",
       "      <td>TRPL4|JBSS3</td>\n",
       "      <td>2900</td>\n",
       "      <td>-3100</td>\n",
       "      <td>3</td>\n",
       "      <td>-4.028523</td>\n",
       "      <td>1.34</td>\n",
       "      <td>0.155227</td>\n",
       "      <td>16</td>\n",
       "      <td>...</td>\n",
       "      <td>0.149986</td>\n",
       "      <td>2015-01-09</td>\n",
       "      <td>6</td>\n",
       "      <td>9.90</td>\n",
       "      <td>6.98</td>\n",
       "      <td>9.56</td>\n",
       "      <td>6.62</td>\n",
       "      <td>-986.0</td>\n",
       "      <td>1116.0</td>\n",
       "      <td>130.0</td>\n",
       "    </tr>\n",
       "    <tr>\n",
       "      <th>4</th>\n",
       "      <td>2015-01-02</td>\n",
       "      <td>JBSS3|LAME4</td>\n",
       "      <td>LAME4|JBSS3</td>\n",
       "      <td>3300</td>\n",
       "      <td>-1300</td>\n",
       "      <td>4</td>\n",
       "      <td>-4.370029</td>\n",
       "      <td>1.85</td>\n",
       "      <td>0.347030</td>\n",
       "      <td>19</td>\n",
       "      <td>...</td>\n",
       "      <td>0.066820</td>\n",
       "      <td>2015-01-09</td>\n",
       "      <td>6</td>\n",
       "      <td>9.90</td>\n",
       "      <td>13.67</td>\n",
       "      <td>9.56</td>\n",
       "      <td>13.33</td>\n",
       "      <td>-1122.0</td>\n",
       "      <td>442.0</td>\n",
       "      <td>-680.0</td>\n",
       "    </tr>\n",
       "    <tr>\n",
       "      <th>...</th>\n",
       "      <td>...</td>\n",
       "      <td>...</td>\n",
       "      <td>...</td>\n",
       "      <td>...</td>\n",
       "      <td>...</td>\n",
       "      <td>...</td>\n",
       "      <td>...</td>\n",
       "      <td>...</td>\n",
       "      <td>...</td>\n",
       "      <td>...</td>\n",
       "      <td>...</td>\n",
       "      <td>...</td>\n",
       "      <td>...</td>\n",
       "      <td>...</td>\n",
       "      <td>...</td>\n",
       "      <td>...</td>\n",
       "      <td>...</td>\n",
       "      <td>...</td>\n",
       "      <td>...</td>\n",
       "      <td>...</td>\n",
       "      <td>...</td>\n",
       "    </tr>\n",
       "    <tr>\n",
       "      <th>9319</th>\n",
       "      <td>2020-07-14</td>\n",
       "      <td>MRVE3|CSNA3</td>\n",
       "      <td>CSNA3|MRVE3</td>\n",
       "      <td>-1400</td>\n",
       "      <td>1700</td>\n",
       "      <td>5</td>\n",
       "      <td>-4.708377</td>\n",
       "      <td>1.47</td>\n",
       "      <td>0.385239</td>\n",
       "      <td>7</td>\n",
       "      <td>...</td>\n",
       "      <td>-0.066807</td>\n",
       "      <td>2020-07-21</td>\n",
       "      <td>6</td>\n",
       "      <td>20.81</td>\n",
       "      <td>11.65</td>\n",
       "      <td>20.61</td>\n",
       "      <td>11.63</td>\n",
       "      <td>280.0</td>\n",
       "      <td>-34.0</td>\n",
       "      <td>246.0</td>\n",
       "    </tr>\n",
       "    <tr>\n",
       "      <th>9320</th>\n",
       "      <td>2020-07-14</td>\n",
       "      <td>LREN3|CYRE3</td>\n",
       "      <td>CYRE3|LREN3</td>\n",
       "      <td>700</td>\n",
       "      <td>-700</td>\n",
       "      <td>8</td>\n",
       "      <td>-5.140300</td>\n",
       "      <td>1.48</td>\n",
       "      <td>0.675353</td>\n",
       "      <td>13</td>\n",
       "      <td>...</td>\n",
       "      <td>-1.133676</td>\n",
       "      <td>2020-07-21</td>\n",
       "      <td>6</td>\n",
       "      <td>42.00</td>\n",
       "      <td>26.65</td>\n",
       "      <td>42.73</td>\n",
       "      <td>27.13</td>\n",
       "      <td>511.0</td>\n",
       "      <td>-336.0</td>\n",
       "      <td>175.0</td>\n",
       "    </tr>\n",
       "    <tr>\n",
       "      <th>9321</th>\n",
       "      <td>2020-07-14</td>\n",
       "      <td>COGN3|EQTL3</td>\n",
       "      <td>EQTL3|COGN3</td>\n",
       "      <td>-2000</td>\n",
       "      <td>1400</td>\n",
       "      <td>6</td>\n",
       "      <td>-5.010727</td>\n",
       "      <td>0.54</td>\n",
       "      <td>0.418118</td>\n",
       "      <td>10</td>\n",
       "      <td>...</td>\n",
       "      <td>-0.121981</td>\n",
       "      <td>2020-07-21</td>\n",
       "      <td>6</td>\n",
       "      <td>8.71</td>\n",
       "      <td>23.85</td>\n",
       "      <td>9.42</td>\n",
       "      <td>23.89</td>\n",
       "      <td>-1420.0</td>\n",
       "      <td>56.0</td>\n",
       "      <td>-1364.0</td>\n",
       "    </tr>\n",
       "    <tr>\n",
       "      <th>9322</th>\n",
       "      <td>2020-07-14</td>\n",
       "      <td>COGN3|VVAR3</td>\n",
       "      <td>VVAR3|COGN3</td>\n",
       "      <td>-2600</td>\n",
       "      <td>1500</td>\n",
       "      <td>4</td>\n",
       "      <td>-4.164408</td>\n",
       "      <td>0.85</td>\n",
       "      <td>0.536048</td>\n",
       "      <td>16</td>\n",
       "      <td>...</td>\n",
       "      <td>-0.955506</td>\n",
       "      <td>2020-07-21</td>\n",
       "      <td>6</td>\n",
       "      <td>8.71</td>\n",
       "      <td>17.99</td>\n",
       "      <td>9.42</td>\n",
       "      <td>20.81</td>\n",
       "      <td>-1846.0</td>\n",
       "      <td>4230.0</td>\n",
       "      <td>2384.0</td>\n",
       "    </tr>\n",
       "    <tr>\n",
       "      <th>9323</th>\n",
       "      <td>2020-07-14</td>\n",
       "      <td>CYRE3|LREN3</td>\n",
       "      <td>LREN3|CYRE3</td>\n",
       "      <td>-800</td>\n",
       "      <td>700</td>\n",
       "      <td>6</td>\n",
       "      <td>-4.588514</td>\n",
       "      <td>0.72</td>\n",
       "      <td>0.672095</td>\n",
       "      <td>14</td>\n",
       "      <td>...</td>\n",
       "      <td>0.389057</td>\n",
       "      <td>2020-07-21</td>\n",
       "      <td>6</td>\n",
       "      <td>26.65</td>\n",
       "      <td>42.00</td>\n",
       "      <td>27.13</td>\n",
       "      <td>42.73</td>\n",
       "      <td>-384.0</td>\n",
       "      <td>511.0</td>\n",
       "      <td>127.0</td>\n",
       "    </tr>\n",
       "  </tbody>\n",
       "</table>\n",
       "<p>9324 rows × 27 columns</p>\n",
       "</div>"
      ],
      "text/plain": [
       "           data        pares pares_invertidos  ativo_dep  ativo_ind  \\\n",
       "0    2015-01-02  ITSA4|BBDC3      BBDC3|ITSA4       5700      -1800   \n",
       "1    2015-01-02  IGTA3|BRML3      BRML3|IGTA3       1400      -1900   \n",
       "2    2015-01-02  RENT3|CCRO3      CCRO3|RENT3      -2900       1700   \n",
       "3    2015-01-02  JBSS3|TRPL4      TRPL4|JBSS3       2900      -3100   \n",
       "4    2015-01-02  JBSS3|LAME4      LAME4|JBSS3       3300      -1300   \n",
       "...         ...          ...              ...        ...        ...   \n",
       "9319 2020-07-14  MRVE3|CSNA3      CSNA3|MRVE3      -1400       1700   \n",
       "9320 2020-07-14  LREN3|CYRE3      CYRE3|LREN3        700       -700   \n",
       "9321 2020-07-14  COGN3|EQTL3      EQTL3|COGN3      -2000       1400   \n",
       "9322 2020-07-14  COGN3|VVAR3      VVAR3|COGN3      -2600       1500   \n",
       "9323 2020-07-14  CYRE3|LREN3      LREN3|CYRE3       -800        700   \n",
       "\n",
       "      dickey-fuller       adf  prop_financeiro    fisher  meia-vida  ...  \\\n",
       "0                 3 -4.289345             1.17  0.824511         19  ...   \n",
       "1                 9 -6.626779             1.59  0.664409         12  ...   \n",
       "2                 4 -4.252567             1.42  0.480409         19  ...   \n",
       "3                 3 -4.028523             1.34  0.155227         16  ...   \n",
       "4                 4 -4.370029             1.85  0.347030         19  ...   \n",
       "...             ...       ...              ...       ...        ...  ...   \n",
       "9319              5 -4.708377             1.47  0.385239          7  ...   \n",
       "9320              8 -5.140300             1.48  0.675353         13  ...   \n",
       "9321              6 -5.010727             0.54  0.418118         10  ...   \n",
       "9322              4 -4.164408             0.85  0.536048         16  ...   \n",
       "9323              6 -4.588514             0.72  0.672095         14  ...   \n",
       "\n",
       "       media_n  data_saida in_dep     in   in.1    out  out.1     res   res.1  \\\n",
       "0     0.052786  2015-01-09      6   4.77  13.27   4.86  13.61   513.0  -612.0   \n",
       "1     0.281100  2015-01-05      2  21.20   9.63  21.71   9.22   714.0   779.0   \n",
       "2    -0.028646  2015-01-07      4   9.99  12.15   9.63  12.16  1044.0    17.0   \n",
       "3     0.149986  2015-01-09      6   9.90   6.98   9.56   6.62  -986.0  1116.0   \n",
       "4     0.066820  2015-01-09      6   9.90  13.67   9.56  13.33 -1122.0   442.0   \n",
       "...        ...         ...    ...    ...    ...    ...    ...     ...     ...   \n",
       "9319 -0.066807  2020-07-21      6  20.81  11.65  20.61  11.63   280.0   -34.0   \n",
       "9320 -1.133676  2020-07-21      6  42.00  26.65  42.73  27.13   511.0  -336.0   \n",
       "9321 -0.121981  2020-07-21      6   8.71  23.85   9.42  23.89 -1420.0    56.0   \n",
       "9322 -0.955506  2020-07-21      6   8.71  17.99   9.42  20.81 -1846.0  4230.0   \n",
       "9323  0.389057  2020-07-21      6  26.65  42.00  27.13  42.73  -384.0   511.0   \n",
       "\n",
       "      resultado  \n",
       "0         -99.0  \n",
       "1        1493.0  \n",
       "2        1061.0  \n",
       "3         130.0  \n",
       "4        -680.0  \n",
       "...         ...  \n",
       "9319      246.0  \n",
       "9320      175.0  \n",
       "9321    -1364.0  \n",
       "9322     2384.0  \n",
       "9323      127.0  \n",
       "\n",
       "[9324 rows x 27 columns]"
      ]
     },
     "execution_count": 54,
     "metadata": {},
     "output_type": "execute_result"
    }
   ],
   "source": [
    "df2"
   ]
  },
  {
   "cell_type": "code",
   "execution_count": null,
   "metadata": {},
   "outputs": [],
   "source": []
  }
 ],
 "metadata": {
  "kernelspec": {
   "display_name": "Python 3",
   "language": "python",
   "name": "python3"
  },
  "language_info": {
   "codemirror_mode": {
    "name": "ipython",
    "version": 3
   },
   "file_extension": ".py",
   "mimetype": "text/x-python",
   "name": "python",
   "nbconvert_exporter": "python",
   "pygments_lexer": "ipython3",
   "version": "3.6.8"
  },
  "toc": {
   "base_numbering": 1,
   "nav_menu": {},
   "number_sections": true,
   "sideBar": true,
   "skip_h1_title": false,
   "title_cell": "Table of Contents",
   "title_sidebar": "Contents",
   "toc_cell": false,
   "toc_position": {},
   "toc_section_display": true,
   "toc_window_display": false
  },
  "varInspector": {
   "cols": {
    "lenName": 16,
    "lenType": 16,
    "lenVar": 40
   },
   "kernels_config": {
    "python": {
     "delete_cmd_postfix": "",
     "delete_cmd_prefix": "del ",
     "library": "var_list.py",
     "varRefreshCmd": "print(var_dic_list())"
    },
    "r": {
     "delete_cmd_postfix": ") ",
     "delete_cmd_prefix": "rm(",
     "library": "var_list.r",
     "varRefreshCmd": "cat(var_dic_list()) "
    }
   },
   "types_to_exclude": [
    "module",
    "function",
    "builtin_function_or_method",
    "instance",
    "_Feature"
   ],
   "window_display": false
  }
 },
 "nbformat": 4,
 "nbformat_minor": 4
}
