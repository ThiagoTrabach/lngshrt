{
 "cells": [
  {
   "cell_type": "code",
   "execution_count": 2,
   "metadata": {},
   "outputs": [],
   "source": [
    "import pandas as pd\n",
    "import numpy as np\n",
    "import itertools\n",
    "import matplotlib.pyplot as plt\n",
    "import time\n",
    "import multiprocessing as mp\n",
    "from tqdm import tqdm"
   ]
  },
  {
   "cell_type": "markdown",
   "metadata": {},
   "source": [
    "# Import dos dados"
   ]
  },
  {
   "cell_type": "code",
   "execution_count": 3,
   "metadata": {},
   "outputs": [
    {
     "data": {
      "text/html": [
       "<div>\n",
       "<style scoped>\n",
       "    .dataframe tbody tr th:only-of-type {\n",
       "        vertical-align: middle;\n",
       "    }\n",
       "\n",
       "    .dataframe tbody tr th {\n",
       "        vertical-align: top;\n",
       "    }\n",
       "\n",
       "    .dataframe thead th {\n",
       "        text-align: right;\n",
       "    }\n",
       "</style>\n",
       "<table border=\"1\" class=\"dataframe\">\n",
       "  <thead>\n",
       "    <tr style=\"text-align: right;\">\n",
       "      <th></th>\n",
       "      <th>data</th>\n",
       "      <th>pares</th>\n",
       "      <th>ativo_dep</th>\n",
       "      <th>ativo_ind</th>\n",
       "      <th>dickey-fuller</th>\n",
       "      <th>adf</th>\n",
       "      <th>prop_financeiro</th>\n",
       "      <th>fisher</th>\n",
       "      <th>meia-vida</th>\n",
       "      <th>desvio-padrao</th>\n",
       "      <th>...</th>\n",
       "      <th>media_n</th>\n",
       "      <th>data_saida</th>\n",
       "      <th>in_dep</th>\n",
       "      <th>in</th>\n",
       "      <th>in.1</th>\n",
       "      <th>out</th>\n",
       "      <th>out.1</th>\n",
       "      <th>res</th>\n",
       "      <th>res.1</th>\n",
       "      <th>resultado</th>\n",
       "    </tr>\n",
       "  </thead>\n",
       "  <tbody>\n",
       "    <tr>\n",
       "      <th>0</th>\n",
       "      <td>2015-01-02</td>\n",
       "      <td>ITSA4|BBDC3</td>\n",
       "      <td>5700</td>\n",
       "      <td>-1800</td>\n",
       "      <td>3</td>\n",
       "      <td>-4.289345</td>\n",
       "      <td>1.17</td>\n",
       "      <td>0.824511</td>\n",
       "      <td>19</td>\n",
       "      <td>-2.308486</td>\n",
       "      <td>...</td>\n",
       "      <td>0.052786</td>\n",
       "      <td>2015-01-09</td>\n",
       "      <td>6</td>\n",
       "      <td>4.77</td>\n",
       "      <td>13.27</td>\n",
       "      <td>4.86</td>\n",
       "      <td>13.61</td>\n",
       "      <td>513.0</td>\n",
       "      <td>-612.0</td>\n",
       "      <td>-99.0</td>\n",
       "    </tr>\n",
       "    <tr>\n",
       "      <th>1</th>\n",
       "      <td>2015-01-02</td>\n",
       "      <td>IGTA3|BRML3</td>\n",
       "      <td>1400</td>\n",
       "      <td>-1900</td>\n",
       "      <td>9</td>\n",
       "      <td>-6.626779</td>\n",
       "      <td>1.59</td>\n",
       "      <td>0.664409</td>\n",
       "      <td>12</td>\n",
       "      <td>-3.014527</td>\n",
       "      <td>...</td>\n",
       "      <td>0.281100</td>\n",
       "      <td>2015-01-05</td>\n",
       "      <td>2</td>\n",
       "      <td>21.20</td>\n",
       "      <td>9.63</td>\n",
       "      <td>21.71</td>\n",
       "      <td>9.22</td>\n",
       "      <td>714.0</td>\n",
       "      <td>779.0</td>\n",
       "      <td>1493.0</td>\n",
       "    </tr>\n",
       "    <tr>\n",
       "      <th>2</th>\n",
       "      <td>2015-01-02</td>\n",
       "      <td>RENT3|CCRO3</td>\n",
       "      <td>-2900</td>\n",
       "      <td>1700</td>\n",
       "      <td>4</td>\n",
       "      <td>-4.252567</td>\n",
       "      <td>1.42</td>\n",
       "      <td>0.480409</td>\n",
       "      <td>19</td>\n",
       "      <td>2.269341</td>\n",
       "      <td>...</td>\n",
       "      <td>-0.028646</td>\n",
       "      <td>2015-01-07</td>\n",
       "      <td>4</td>\n",
       "      <td>9.99</td>\n",
       "      <td>12.15</td>\n",
       "      <td>9.63</td>\n",
       "      <td>12.16</td>\n",
       "      <td>1044.0</td>\n",
       "      <td>17.0</td>\n",
       "      <td>1061.0</td>\n",
       "    </tr>\n",
       "    <tr>\n",
       "      <th>3</th>\n",
       "      <td>2015-01-02</td>\n",
       "      <td>JBSS3|TRPL4</td>\n",
       "      <td>2900</td>\n",
       "      <td>-3100</td>\n",
       "      <td>3</td>\n",
       "      <td>-4.028523</td>\n",
       "      <td>1.34</td>\n",
       "      <td>0.155227</td>\n",
       "      <td>16</td>\n",
       "      <td>-2.075095</td>\n",
       "      <td>...</td>\n",
       "      <td>0.149986</td>\n",
       "      <td>2015-01-09</td>\n",
       "      <td>6</td>\n",
       "      <td>9.90</td>\n",
       "      <td>6.98</td>\n",
       "      <td>9.56</td>\n",
       "      <td>6.62</td>\n",
       "      <td>-986.0</td>\n",
       "      <td>1116.0</td>\n",
       "      <td>130.0</td>\n",
       "    </tr>\n",
       "    <tr>\n",
       "      <th>4</th>\n",
       "      <td>2015-01-02</td>\n",
       "      <td>JBSS3|LAME4</td>\n",
       "      <td>3300</td>\n",
       "      <td>-1300</td>\n",
       "      <td>4</td>\n",
       "      <td>-4.370029</td>\n",
       "      <td>1.85</td>\n",
       "      <td>0.347030</td>\n",
       "      <td>19</td>\n",
       "      <td>-2.671004</td>\n",
       "      <td>...</td>\n",
       "      <td>0.066820</td>\n",
       "      <td>2015-01-09</td>\n",
       "      <td>6</td>\n",
       "      <td>9.90</td>\n",
       "      <td>13.67</td>\n",
       "      <td>9.56</td>\n",
       "      <td>13.33</td>\n",
       "      <td>-1122.0</td>\n",
       "      <td>442.0</td>\n",
       "      <td>-680.0</td>\n",
       "    </tr>\n",
       "  </tbody>\n",
       "</table>\n",
       "<p>5 rows × 26 columns</p>\n",
       "</div>"
      ],
      "text/plain": [
       "        data        pares  ativo_dep  ativo_ind  dickey-fuller       adf  \\\n",
       "0 2015-01-02  ITSA4|BBDC3       5700      -1800              3 -4.289345   \n",
       "1 2015-01-02  IGTA3|BRML3       1400      -1900              9 -6.626779   \n",
       "2 2015-01-02  RENT3|CCRO3      -2900       1700              4 -4.252567   \n",
       "3 2015-01-02  JBSS3|TRPL4       2900      -3100              3 -4.028523   \n",
       "4 2015-01-02  JBSS3|LAME4       3300      -1300              4 -4.370029   \n",
       "\n",
       "   prop_financeiro    fisher  meia-vida  desvio-padrao  ...   media_n  \\\n",
       "0             1.17  0.824511         19      -2.308486  ...  0.052786   \n",
       "1             1.59  0.664409         12      -3.014527  ...  0.281100   \n",
       "2             1.42  0.480409         19       2.269341  ... -0.028646   \n",
       "3             1.34  0.155227         16      -2.075095  ...  0.149986   \n",
       "4             1.85  0.347030         19      -2.671004  ...  0.066820   \n",
       "\n",
       "  data_saida  in_dep     in   in.1    out  out.1     res   res.1  resultado  \n",
       "0 2015-01-09       6   4.77  13.27   4.86  13.61   513.0  -612.0      -99.0  \n",
       "1 2015-01-05       2  21.20   9.63  21.71   9.22   714.0   779.0     1493.0  \n",
       "2 2015-01-07       4   9.99  12.15   9.63  12.16  1044.0    17.0     1061.0  \n",
       "3 2015-01-09       6   9.90   6.98   9.56   6.62  -986.0  1116.0      130.0  \n",
       "4 2015-01-09       6   9.90  13.67   9.56  13.33 -1122.0   442.0     -680.0  \n",
       "\n",
       "[5 rows x 26 columns]"
      ]
     },
     "execution_count": 3,
     "metadata": {},
     "output_type": "execute_result"
    }
   ],
   "source": [
    "# Parametros\n",
    "file_path = '~/git/ls/input/BigBanco.xlsm'\n",
    "\n",
    "\n",
    "# Import\n",
    "df = pd.read_excel(file_path)\n",
    "df.head()\n"
   ]
  },
  {
   "cell_type": "code",
   "execution_count": 3,
   "metadata": {},
   "outputs": [
    {
     "data": {
      "text/plain": [
       "Index(['data', 'pares', 'ativo_dep', 'ativo_ind', 'dickey-fuller', 'adf',\n",
       "       'prop_financeiro', 'fisher', 'meia-vida', 'desvio-padrao', 'periodo',\n",
       "       'ok', 'vol_financ', 'manter', 'variancia_beta', 'dagostino-person',\n",
       "       'media_n', 'data_saida', 'in_dep', 'in', 'in.1', 'out', 'out.1', 'res',\n",
       "       'res.1', 'resultado'],\n",
       "      dtype='object')"
      ]
     },
     "execution_count": 3,
     "metadata": {},
     "output_type": "execute_result"
    }
   ],
   "source": [
    "df.columns"
   ]
  },
  {
   "cell_type": "code",
   "execution_count": 4,
   "metadata": {},
   "outputs": [
    {
     "data": {
      "text/html": [
       "<div>\n",
       "<style scoped>\n",
       "    .dataframe tbody tr th:only-of-type {\n",
       "        vertical-align: middle;\n",
       "    }\n",
       "\n",
       "    .dataframe tbody tr th {\n",
       "        vertical-align: top;\n",
       "    }\n",
       "\n",
       "    .dataframe thead th {\n",
       "        text-align: right;\n",
       "    }\n",
       "</style>\n",
       "<table border=\"1\" class=\"dataframe\">\n",
       "  <thead>\n",
       "    <tr style=\"text-align: right;\">\n",
       "      <th></th>\n",
       "      <th>data</th>\n",
       "      <th>pares</th>\n",
       "      <th>pares_invertidos</th>\n",
       "      <th>ativo_dep</th>\n",
       "      <th>ativo_ind</th>\n",
       "      <th>dickey-fuller</th>\n",
       "      <th>adf</th>\n",
       "      <th>prop_financeiro</th>\n",
       "      <th>fisher</th>\n",
       "      <th>meia-vida</th>\n",
       "      <th>...</th>\n",
       "      <th>media_n</th>\n",
       "      <th>data_saida</th>\n",
       "      <th>in_dep</th>\n",
       "      <th>in</th>\n",
       "      <th>in.1</th>\n",
       "      <th>out</th>\n",
       "      <th>out.1</th>\n",
       "      <th>res</th>\n",
       "      <th>res.1</th>\n",
       "      <th>resultado</th>\n",
       "    </tr>\n",
       "  </thead>\n",
       "  <tbody>\n",
       "    <tr>\n",
       "      <th>0</th>\n",
       "      <td>2015-01-02</td>\n",
       "      <td>ITSA4|BBDC3</td>\n",
       "      <td>BBDC3|ITSA4</td>\n",
       "      <td>5700</td>\n",
       "      <td>-1800</td>\n",
       "      <td>3</td>\n",
       "      <td>-4.289345</td>\n",
       "      <td>1.17</td>\n",
       "      <td>0.824511</td>\n",
       "      <td>19</td>\n",
       "      <td>...</td>\n",
       "      <td>0.052786</td>\n",
       "      <td>2015-01-09</td>\n",
       "      <td>6</td>\n",
       "      <td>4.77</td>\n",
       "      <td>13.27</td>\n",
       "      <td>4.86</td>\n",
       "      <td>13.61</td>\n",
       "      <td>513.0</td>\n",
       "      <td>-612.0</td>\n",
       "      <td>-99.0</td>\n",
       "    </tr>\n",
       "    <tr>\n",
       "      <th>1</th>\n",
       "      <td>2015-01-02</td>\n",
       "      <td>IGTA3|BRML3</td>\n",
       "      <td>BRML3|IGTA3</td>\n",
       "      <td>1400</td>\n",
       "      <td>-1900</td>\n",
       "      <td>9</td>\n",
       "      <td>-6.626779</td>\n",
       "      <td>1.59</td>\n",
       "      <td>0.664409</td>\n",
       "      <td>12</td>\n",
       "      <td>...</td>\n",
       "      <td>0.281100</td>\n",
       "      <td>2015-01-05</td>\n",
       "      <td>2</td>\n",
       "      <td>21.20</td>\n",
       "      <td>9.63</td>\n",
       "      <td>21.71</td>\n",
       "      <td>9.22</td>\n",
       "      <td>714.0</td>\n",
       "      <td>779.0</td>\n",
       "      <td>1493.0</td>\n",
       "    </tr>\n",
       "    <tr>\n",
       "      <th>2</th>\n",
       "      <td>2015-01-02</td>\n",
       "      <td>RENT3|CCRO3</td>\n",
       "      <td>CCRO3|RENT3</td>\n",
       "      <td>-2900</td>\n",
       "      <td>1700</td>\n",
       "      <td>4</td>\n",
       "      <td>-4.252567</td>\n",
       "      <td>1.42</td>\n",
       "      <td>0.480409</td>\n",
       "      <td>19</td>\n",
       "      <td>...</td>\n",
       "      <td>-0.028646</td>\n",
       "      <td>2015-01-07</td>\n",
       "      <td>4</td>\n",
       "      <td>9.99</td>\n",
       "      <td>12.15</td>\n",
       "      <td>9.63</td>\n",
       "      <td>12.16</td>\n",
       "      <td>1044.0</td>\n",
       "      <td>17.0</td>\n",
       "      <td>1061.0</td>\n",
       "    </tr>\n",
       "    <tr>\n",
       "      <th>3</th>\n",
       "      <td>2015-01-02</td>\n",
       "      <td>JBSS3|TRPL4</td>\n",
       "      <td>TRPL4|JBSS3</td>\n",
       "      <td>2900</td>\n",
       "      <td>-3100</td>\n",
       "      <td>3</td>\n",
       "      <td>-4.028523</td>\n",
       "      <td>1.34</td>\n",
       "      <td>0.155227</td>\n",
       "      <td>16</td>\n",
       "      <td>...</td>\n",
       "      <td>0.149986</td>\n",
       "      <td>2015-01-09</td>\n",
       "      <td>6</td>\n",
       "      <td>9.90</td>\n",
       "      <td>6.98</td>\n",
       "      <td>9.56</td>\n",
       "      <td>6.62</td>\n",
       "      <td>-986.0</td>\n",
       "      <td>1116.0</td>\n",
       "      <td>130.0</td>\n",
       "    </tr>\n",
       "    <tr>\n",
       "      <th>4</th>\n",
       "      <td>2015-01-02</td>\n",
       "      <td>JBSS3|LAME4</td>\n",
       "      <td>LAME4|JBSS3</td>\n",
       "      <td>3300</td>\n",
       "      <td>-1300</td>\n",
       "      <td>4</td>\n",
       "      <td>-4.370029</td>\n",
       "      <td>1.85</td>\n",
       "      <td>0.347030</td>\n",
       "      <td>19</td>\n",
       "      <td>...</td>\n",
       "      <td>0.066820</td>\n",
       "      <td>2015-01-09</td>\n",
       "      <td>6</td>\n",
       "      <td>9.90</td>\n",
       "      <td>13.67</td>\n",
       "      <td>9.56</td>\n",
       "      <td>13.33</td>\n",
       "      <td>-1122.0</td>\n",
       "      <td>442.0</td>\n",
       "      <td>-680.0</td>\n",
       "    </tr>\n",
       "  </tbody>\n",
       "</table>\n",
       "<p>5 rows × 27 columns</p>\n",
       "</div>"
      ],
      "text/plain": [
       "        data        pares pares_invertidos  ativo_dep  ativo_ind  \\\n",
       "0 2015-01-02  ITSA4|BBDC3      BBDC3|ITSA4       5700      -1800   \n",
       "1 2015-01-02  IGTA3|BRML3      BRML3|IGTA3       1400      -1900   \n",
       "2 2015-01-02  RENT3|CCRO3      CCRO3|RENT3      -2900       1700   \n",
       "3 2015-01-02  JBSS3|TRPL4      TRPL4|JBSS3       2900      -3100   \n",
       "4 2015-01-02  JBSS3|LAME4      LAME4|JBSS3       3300      -1300   \n",
       "\n",
       "   dickey-fuller       adf  prop_financeiro    fisher  meia-vida  ...  \\\n",
       "0              3 -4.289345             1.17  0.824511         19  ...   \n",
       "1              9 -6.626779             1.59  0.664409         12  ...   \n",
       "2              4 -4.252567             1.42  0.480409         19  ...   \n",
       "3              3 -4.028523             1.34  0.155227         16  ...   \n",
       "4              4 -4.370029             1.85  0.347030         19  ...   \n",
       "\n",
       "    media_n  data_saida in_dep     in   in.1    out  out.1     res   res.1  \\\n",
       "0  0.052786  2015-01-09      6   4.77  13.27   4.86  13.61   513.0  -612.0   \n",
       "1  0.281100  2015-01-05      2  21.20   9.63  21.71   9.22   714.0   779.0   \n",
       "2 -0.028646  2015-01-07      4   9.99  12.15   9.63  12.16  1044.0    17.0   \n",
       "3  0.149986  2015-01-09      6   9.90   6.98   9.56   6.62  -986.0  1116.0   \n",
       "4  0.066820  2015-01-09      6   9.90  13.67   9.56  13.33 -1122.0   442.0   \n",
       "\n",
       "   resultado  \n",
       "0      -99.0  \n",
       "1     1493.0  \n",
       "2     1061.0  \n",
       "3      130.0  \n",
       "4     -680.0  \n",
       "\n",
       "[5 rows x 27 columns]"
      ]
     },
     "execution_count": 4,
     "metadata": {},
     "output_type": "execute_result"
    }
   ],
   "source": [
    "# adiciona colunas auxiliares\n",
    "df['pares_invertidos'] = df.pares.apply(lambda x: x[-x.find('|'):] +'|' + x[:x.find('|')] )\n",
    "\n",
    "# corrige o ordenamento das colunas\n",
    "df = df[['data', 'pares', 'pares_invertidos', 'ativo_dep', 'ativo_ind', 'dickey-fuller', 'adf',\n",
    "       'prop_financeiro', 'fisher', 'meia-vida', 'desvio-padrao', 'periodo',\n",
    "       'ok', 'vol_financ', 'manter', 'variancia_beta', 'dagostino-person',\n",
    "       'media_n', 'data_saida', 'in_dep', 'in', 'in.1', 'out', 'out.1', 'res',\n",
    "       'res.1', 'resultado']]\n",
    "\n",
    "\n",
    "\n",
    "df.head()"
   ]
  },
  {
   "cell_type": "code",
   "execution_count": 5,
   "metadata": {},
   "outputs": [
    {
     "name": "stdout",
     "output_type": "stream",
     "text": [
      "Intervalo do dataset:2015-01-02 00:00:00 a 2020-07-14 00:00:00\n",
      "Shape: (9324, 27)\n"
     ]
    }
   ],
   "source": [
    "# Obtem o intervalo de tempo do dataset\n",
    "data_inicio = df.data.min()\n",
    "data_final = df.data.max()\n",
    "print('Intervalo do dataset:{} a {}'.format(data_inicio, data_final))\n",
    "print('Shape: {}'.format(df.shape))"
   ]
  },
  {
   "cell_type": "markdown",
   "metadata": {},
   "source": [
    "# Operação de entrar e sair"
   ]
  },
  {
   "cell_type": "code",
   "execution_count": 6,
   "metadata": {},
   "outputs": [],
   "source": [
    "def trade(dataset, data_inicial, data_final, portfolio_max_size):\n",
    "    \n",
    "    # Parametros de inicializacao\n",
    "    df = dataset\n",
    "    data = data_inicial\n",
    "\n",
    "    portfolio = pd.DataFrame(data=None, columns=df.columns)\n",
    "\n",
    "    operacoes = pd.DataFrame(data=None, columns=df.columns)\n",
    "    \n",
    "  \n",
    "    # itera diariamente\n",
    "    while data <= data_final:\n",
    "        #####\n",
    "        # SAIDA\n",
    "        #####\n",
    "        ativos_saindo = portfolio[portfolio['data_saida'] == data]\n",
    "        ativos_saindo_index = set(ativos_saindo.index)\n",
    "\n",
    "        #remove do portfolio\n",
    "        portfolio_index = set(portfolio.index)\n",
    "        portfolio = portfolio.loc[list(portfolio_index - ativos_saindo_index)]\n",
    "\n",
    "        # registra as operacoes concluidas\n",
    "        operacoes = operacoes.append(ativos_saindo)\n",
    "\n",
    "        ####\n",
    "        # ENTRADA\n",
    "        ####\n",
    "        # carrega todos ativos entrantes\n",
    "        ativos_entrantes = df[df.data == data]\n",
    "\n",
    "        # filtrar os pares não validos\n",
    "        portfolio_pares = set(portfolio.pares_invertidos).union(set(portfolio.pares))\n",
    "\n",
    "        ativos_entrantes_pares = set(ativos_entrantes.pares)\n",
    "\n",
    "        ativos_entrantes = ativos_entrantes[ativos_entrantes.pares.isin(list(ativos_entrantes_pares - portfolio_pares))]\n",
    "\n",
    "\n",
    "        # ordena os ativos elegíveis\n",
    "        # TODO: segundo nível do sort\n",
    "        ativos_entrantes = ativos_entrantes.sort_values(by = ['dickey-fuller'], ascending = False )\n",
    "\n",
    "\n",
    "        # filtra de acordo com o tamanho maximo da carteira\n",
    "        portfolio_slotes_disponiveis = portfolio_max_size - portfolio.shape[0]\n",
    "\n",
    "        portfolio_slotes_disponiveis = portfolio_slotes_disponiveis if portfolio_slotes_disponiveis > 0 else 0\n",
    "\n",
    "        ativos_entrantes = ativos_entrantes[:portfolio_slotes_disponiveis]\n",
    "\n",
    "\n",
    "        # grava o novo portfolio \n",
    "        portfolio = portfolio.append(ativos_entrantes)\n",
    "\n",
    "        data += pd.DateOffset(1)\n",
    "        \n",
    "    return(operacoes)"
   ]
  },
  {
   "cell_type": "markdown",
   "metadata": {},
   "source": [
    "# Filtrar pelos parâmetros"
   ]
  },
  {
   "cell_type": "code",
   "execution_count": 7,
   "metadata": {},
   "outputs": [],
   "source": [
    "def filter_dataframe(dataframe, parameters):\n",
    "    \n",
    "    df = dataframe\n",
    "    \n",
    "    param = parameters\n",
    "    \n",
    "    c1 = df['dickey-fuller'] >= param['dickey-fuller']\n",
    "    c2 = df['fisher'] >= param['fisher']\n",
    "    c3 = df['meia-vida'] <= param['meia-vida']\n",
    "    c4 = df['media_n'].between(-param['media_n'],param['media_n'])\n",
    "    c5 = (df['desvio-padrao'] <= - param['desvio-padrao']) | (df['desvio-padrao'] >= param['desvio-padrao']) \n",
    "    c6 = df['periodo'] >= param['periodo']\n",
    "    c7 = df['variancia_beta'] <= param['variancia_beta']\n",
    "    c8 = df['dagostino-person'] >= param['dagostino-person']\n",
    "    \n",
    "    \n",
    "    df_filtered = df[c1 & c2 & c3 & c4 & c5 & c6 & c7 & c7]\n",
    "    \n",
    "    return(df_filtered)"
   ]
  },
  {
   "cell_type": "markdown",
   "metadata": {},
   "source": [
    "# Métricas"
   ]
  },
  {
   "cell_type": "code",
   "execution_count": 8,
   "metadata": {},
   "outputs": [],
   "source": [
    "def metrica_mdd(df, dotacao_inicial):\n",
    "    \n",
    "    resultado_acumulado = df.resultado.cumsum() + dotacao_inicial\n",
    "    mdd = 0\n",
    "    pico = resultado_acumulado.iloc[0]\n",
    "    \n",
    "    for i in resultado_acumulado:\n",
    "        if i > pico:\n",
    "            pico = i\n",
    "        dd = (pico - i)/pico\n",
    "        \n",
    "        if dd > mdd:\n",
    "            mdd = dd\n",
    "    \n",
    "    return round(mdd,3)"
   ]
  },
  {
   "cell_type": "code",
   "execution_count": 9,
   "metadata": {},
   "outputs": [],
   "source": [
    "def metricas(df, dotacao_inicial):\n",
    "    \n",
    "    n_operacoes = df.shape[0]\n",
    "    \n",
    "    retorno = df.resultado.sum()\n",
    "    \n",
    "    win_rate = round(sum(df.resultado > 0)/df.shape[0], 2)\n",
    "    \n",
    "    pay_off = round(abs(df.resultado[df.resultado > 0].mean() / df.resultado[df.resultado < 0].mean()),3)\n",
    "    \n",
    "    mdd = metrica_mdd(df, dotacao_inicial)\n",
    "    \n",
    "    recovery_factor = round(abs(df.resultado[df.resultado > 0].sum() / df.resultado[df.resultado < 0].sum()),3)\n",
    "    \n",
    "    \n",
    "    return ({'n_operacoes': n_operacoes,\n",
    "            'retorno': retorno,\n",
    "            'win_rate': win_rate,\n",
    "            'pay_off': pay_off,\n",
    "            'mdd': mdd,\n",
    "            'recovery_factor':recovery_factor})"
   ]
  },
  {
   "cell_type": "markdown",
   "metadata": {},
   "source": [
    "# Roda os trades"
   ]
  },
  {
   "cell_type": "code",
   "execution_count": 15,
   "metadata": {},
   "outputs": [],
   "source": [
    "param = {'portfolio_max_size':10,\n",
    "         'dickey-fuller': 8,\n",
    "         'fisher': 0.3,\n",
    "         'meia-vida': 100,\n",
    "         'media_n': 0.5,\n",
    "         'desvio-padrao': 2,\n",
    "         'periodo': 100,\n",
    "         'variancia_beta': 0.01,\n",
    "         'dagostino-person': 0.05}"
   ]
  },
  {
   "cell_type": "code",
   "execution_count": 16,
   "metadata": {},
   "outputs": [
    {
     "name": "stdout",
     "output_type": "stream",
     "text": [
      "--- 29.406118869781494 seconds ---\n"
     ]
    }
   ],
   "source": [
    "start_time = time.time()\n",
    "\n",
    "df_filtered = filter_dataframe(df, param)\n",
    "\n",
    "operacoes = trade(df_filtered, data_inicio, data_final, param['portfolio_max_size'])\n",
    "\n",
    "tempo_trade = time.time() - start_time\n",
    "\n",
    "print(\"--- %s seconds ---\" % (tempo_trade))"
   ]
  },
  {
   "cell_type": "code",
   "execution_count": 17,
   "metadata": {},
   "outputs": [
    {
     "data": {
      "text/plain": [
       "[<matplotlib.lines.Line2D at 0x7ff4b181b908>]"
      ]
     },
     "execution_count": 17,
     "metadata": {},
     "output_type": "execute_result"
    },
    {
     "data": {
      "image/png": "[encoded data removed]",
      "text/plain": [
       "<Figure size 432x288 with 1 Axes>"
      ]
     },
     "metadata": {
      "needs_background": "light"
     },
     "output_type": "display_data"
    }
   ],
   "source": [
    "metricas(operacoes, 125000)\n",
    "plt.plot(operacoes.resultado.cumsum())"
   ]
  },
  {
   "cell_type": "markdown",
   "metadata": {},
   "source": [
    "# Grid Search"
   ]
  },
  {
   "cell_type": "code",
   "execution_count": 228,
   "metadata": {},
   "outputs": [],
   "source": [
    "#ranges de valores\n",
    "portfolio_max_size = np.arange(2,6,1)\n",
    "dickey_fuller = np.arange(3,10,1)\n",
    "fisher = np.arange(-0.5,1,0.1)\n",
    "meia_vida = [10,25,100]\n",
    "media_n = np.arange(0.5, 2, 0.1)\n",
    "desvio_padrao = np.arange(2, 3.6, 0.1)\n",
    "periodo = [100, 120, 140, 160, 180, 200, 220, 240, 250]\n",
    "variancia_beta = np.arange(0.01, 0.11, 0.01)\n",
    "dagostino_person = 0.05"
   ]
  },
  {
   "cell_type": "code",
   "execution_count": 265,
   "metadata": {},
   "outputs": [],
   "source": [
    "#ranges de valores\n",
    "portfolio_max_size = np.arange(2,3,1)\n",
    "dickey_fuller = np.arange(3,4,1)\n",
    "fisher = np.arange(-0.5,-0.4,0.1)\n",
    "meia_vida = [10, 25]\n",
    "media_n = np.arange(0.5, 0.6, 0.1)\n",
    "desvio_padrao = np.arange(2, 2.1, 0.1)\n",
    "periodo = [100]\n",
    "variancia_beta = np.arange(0.01, 0.12, 0.1)\n",
    "dagostino_person = 0.05"
   ]
  },
  {
   "cell_type": "code",
   "execution_count": 266,
   "metadata": {},
   "outputs": [
    {
     "name": "stdout",
     "output_type": "stream",
     "text": [
      "Número de iterações: 8\n",
      "Tempo previsto de validação: 0.0 anos\n",
      "Tempo previsto de validação: 0.0 dias\n",
      "Tempo previsto de validação: 0.07 horas\n"
     ]
    }
   ],
   "source": [
    "lista_parametros = list(itertools.product(portfolio_max_size, \n",
    "                                          dickey_fuller,\n",
    "                                          fisher,\n",
    "                                          meia_vida,\n",
    "                                          media_n,\n",
    "                                          desvio_padrao,\n",
    "                                          periodo,\n",
    "                                          variancia_beta ))\n",
    "\n",
    "\n",
    "tempo_segundos = len(lista_parametros)*tempo_trade\n",
    "tempo_horas = round(tempo_segundos/(60*60),2)\n",
    "tempo_dias = round(tempo_segundos/(60*60*24),2)\n",
    "tempo_anos = round(tempo_segundos/(60*60*24*365),2)\n",
    "\n",
    "print('Número de iterações: {}'.format(len(lista_parametros)))\n",
    "print('Tempo previsto de validação: {} anos'.format(tempo_anos))\n",
    "print('Tempo previsto de validação: {} dias'.format(tempo_dias))\n",
    "print('Tempo previsto de validação: {} horas'.format(tempo_horas))"
   ]
  },
  {
   "cell_type": "code",
   "execution_count": 238,
   "metadata": {},
   "outputs": [
    {
     "name": "stderr",
     "output_type": "stream",
     "text": [
      "100%|██████████| 2/2 [01:03<00:00, 31.55s/it]\n"
     ]
    }
   ],
   "source": [
    "testes = []\n",
    "\n",
    "for parametros in tqdm(lista_parametros[:2]):\n",
    "    \n",
    "    param = {'portfolio_max_size': parametros[0],\n",
    "         'dickey-fuller': parametros[1],\n",
    "         'fisher': parametros[2],\n",
    "         'meia-vida': parametros[3],\n",
    "         'media_n': parametros[4],\n",
    "         'desvio-padrao': parametros[5],\n",
    "         'periodo': parametros[6],\n",
    "         'variancia_beta': parametros[7],\n",
    "         'dagostino-person': 0.05}\n",
    "    \n",
    "    df_filtered = filter_dataframe(df, param)\n",
    "\n",
    "    operacoes = trade(df_filtered, data_inicio, data_final, param['portfolio_max_size'])\n",
    "    \n",
    "    testes.append([param, metricas(operacoes, parametros[0]*25000)])"
   ]
  },
  {
   "cell_type": "code",
   "execution_count": 239,
   "metadata": {},
   "outputs": [
    {
     "data": {
      "text/plain": [
       "[[{'portfolio_max_size': 2,\n",
       "   'dickey-fuller': 3,\n",
       "   'fisher': -0.5,\n",
       "   'meia-vida': 10,\n",
       "   'media_n': 0.5,\n",
       "   'desvio-padrao': 2.0,\n",
       "   'periodo': 100,\n",
       "   'variancia_beta': 0.01,\n",
       "   'dagostino-person': 0.05},\n",
       "  {'n_operacoes': 469,\n",
       "   'retorno': 39618.00000000012,\n",
       "   'win_rate': 0.6,\n",
       "   'pay_off': 0.81,\n",
       "   'mdd': 1.027,\n",
       "   'recovery_factor': 1.2}],\n",
       " [{'portfolio_max_size': 2,\n",
       "   'dickey-fuller': 3,\n",
       "   'fisher': -0.5,\n",
       "   'meia-vida': 10,\n",
       "   'media_n': 0.5,\n",
       "   'desvio-padrao': 2.0,\n",
       "   'periodo': 100,\n",
       "   'variancia_beta': 0.02,\n",
       "   'dagostino-person': 0.05},\n",
       "  {'n_operacoes': 473,\n",
       "   'retorno': 36324.00000000008,\n",
       "   'win_rate': 0.59,\n",
       "   'pay_off': 0.813,\n",
       "   'mdd': 1.046,\n",
       "   'recovery_factor': 1.179}]]"
      ]
     },
     "execution_count": 239,
     "metadata": {},
     "output_type": "execute_result"
    }
   ],
   "source": [
    "testes"
   ]
  },
  {
   "cell_type": "markdown",
   "metadata": {},
   "source": [
    "# Processamento Distribuído"
   ]
  },
  {
   "cell_type": "markdown",
   "metadata": {},
   "source": [
    "## Setup"
   ]
  },
  {
   "cell_type": "code",
   "execution_count": 18,
   "metadata": {},
   "outputs": [
    {
     "name": "stdout",
     "output_type": "stream",
     "text": [
      "Number of processors:  8\n"
     ]
    }
   ],
   "source": [
    "print(\"Number of processors: \", mp.cpu_count())"
   ]
  },
  {
   "cell_type": "code",
   "execution_count": 19,
   "metadata": {},
   "outputs": [],
   "source": [
    "# escapsulando a função Sincrona\n",
    "\n",
    "def back_test_sync(parametros, df = df, data_inicio = data_inicio, data_final =  data_final ):\n",
    "    param = {'portfolio_max_size': parametros[0],\n",
    "         'dickey-fuller': parametros[1],\n",
    "         'fisher': parametros[2],\n",
    "         'meia-vida': parametros[3],\n",
    "         'media_n': parametros[4],\n",
    "         'desvio-padrao': parametros[5],\n",
    "         'periodo': parametros[6],\n",
    "         'variancia_beta': parametros[7],\n",
    "         'dagostino-person': 0.05}\n",
    "    \n",
    "    df_filtered = filter_dataframe(df, param)\n",
    "\n",
    "    operacoes = trade(df_filtered, data_inicio, data_final, param['portfolio_max_size'])\n",
    "    \n",
    "    return([param, metricas(operacoes, parametros[0]*25000)])"
   ]
  },
  {
   "cell_type": "code",
   "execution_count": 20,
   "metadata": {},
   "outputs": [],
   "source": [
    "# escapsulando a função Assincrona\n",
    "\n",
    "def collect_result(result):\n",
    "    '''Define callback function to collect the output in `results` '''\n",
    "    global results\n",
    "    results.append(result)\n",
    "\n",
    "\n",
    "def back_test_async(i, parametros, df = df, data_inicio = data_inicio, data_final =  data_final ):\n",
    "    param = {'portfolio_max_size': parametros[0],\n",
    "         'dickey-fuller': parametros[1],\n",
    "         'fisher': parametros[2],\n",
    "         'meia-vida': parametros[3],\n",
    "         'media_n': parametros[4],\n",
    "         'desvio-padrao': parametros[5],\n",
    "         'periodo': parametros[6],\n",
    "         'variancia_beta': parametros[7],\n",
    "         'dagostino-person': 0.05}\n",
    "    \n",
    "    df_filtered = filter_dataframe(df, param)\n",
    "\n",
    "    operacoes = trade(df_filtered, data_inicio, data_final, param['portfolio_max_size'])\n",
    "    \n",
    "    return(i, [param, metricas(operacoes, parametros[0]*25000)])"
   ]
  },
  {
   "cell_type": "markdown",
   "metadata": {},
   "source": [
    "## Definição do Grid de Parâmetros"
   ]
  },
  {
   "cell_type": "code",
   "execution_count": 21,
   "metadata": {},
   "outputs": [
    {
     "name": "stdout",
     "output_type": "stream",
     "text": [
      "Número de iterações: 16\n",
      "Tempo previsto de validação: 0.0 anos\n",
      "Tempo previsto de validação: 0.01 dias\n",
      "Tempo previsto de validação: 0.13 horas\n"
     ]
    }
   ],
   "source": [
    "#ranges de valores\n",
    "portfolio_max_size = np.arange(2,3,1)\n",
    "dickey_fuller = np.arange(3,4,1)\n",
    "fisher = np.arange(-0.5,-0.4,0.1)\n",
    "meia_vida = [10, 25, 50, 100]\n",
    "media_n = np.arange(0.5, 0.6, 0.1)\n",
    "desvio_padrao = np.arange(2, 2.1, 0.1)\n",
    "periodo = [100]\n",
    "variancia_beta = np.arange(0.01, 0.12, 0.1)\n",
    "dagostino_person = 0.05\n",
    "\n",
    "\n",
    "# Gera a combinação dos parâmetros\n",
    "lista_parametros = list(itertools.product(portfolio_max_size, \n",
    "                                          dickey_fuller,\n",
    "                                          fisher,\n",
    "                                          meia_vida,\n",
    "                                          media_n,\n",
    "                                          desvio_padrao,\n",
    "                                          periodo,\n",
    "                                          variancia_beta))\n",
    "\n",
    "\n",
    "tempo_segundos = len(lista_parametros)*tempo_trade\n",
    "tempo_horas = round(tempo_segundos/(60*60),2)\n",
    "tempo_dias = round(tempo_segundos/(60*60*24),2)\n",
    "tempo_anos = round(tempo_segundos/(60*60*24*365),2)\n",
    "\n",
    "print('Número de iterações: {}'.format(len(lista_parametros)))\n",
    "print('Tempo previsto de validação: {} anos'.format(tempo_anos))\n",
    "print('Tempo previsto de validação: {} dias'.format(tempo_dias))\n",
    "print('Tempo previsto de validação: {} horas'.format(tempo_horas))"
   ]
  },
  {
   "cell_type": "markdown",
   "metadata": {},
   "source": [
    "## Processamento Síncrono"
   ]
  },
  {
   "cell_type": "code",
   "execution_count": 298,
   "metadata": {},
   "outputs": [
    {
     "name": "stdout",
     "output_type": "stream",
     "text": [
      "--- 127.72169184684753 seconds ---\n"
     ]
    }
   ],
   "source": [
    "start_time = time.time()\n",
    "\n",
    "# Step 1: Init multiprocessing.Pool()\n",
    "pool = mp.Pool(mp.cpu_count())\n",
    "\n",
    "# Step 2: `pool.apply` the `howmany_within_range()`\n",
    "results = pool.map(back_test_sync, [parametros for parametros in lista_parametros])\n",
    "\n",
    "                      \n",
    "# Step 3: Don't forget to close\n",
    "pool.close()\n",
    "\n",
    "\n",
    "print(\"--- %s seconds ---\" % (time.time() - start_time))"
   ]
  },
  {
   "cell_type": "markdown",
   "metadata": {},
   "source": [
    "## Processamento Assíncrono"
   ]
  },
  {
   "cell_type": "code",
   "execution_count": 22,
   "metadata": {},
   "outputs": [
    {
     "name": "stdout",
     "output_type": "stream",
     "text": [
      "--- 120.01316714286804 seconds ---\n"
     ]
    }
   ],
   "source": [
    "results = []\n",
    "\n",
    "start_time = time.time()\n",
    "\n",
    "pool = mp.Pool(mp.cpu_count())\n",
    "\n",
    "# Step 3: Use loop to parallelize\n",
    "for i, parametros in enumerate(lista_parametros):\n",
    "    pool.apply_async(back_test_async, args=(i, parametros, df, data_inicio, data_final), callback=collect_result)\n",
    "\n",
    "# Step 4: Close Pool and let all the processes complete    \n",
    "pool.close()\n",
    "pool.join()  # postpones the execution of next line of code until all processes in the queue are done.\n",
    "\n",
    "print(\"--- %s seconds ---\" % (time.time() - start_time))"
   ]
  },
  {
   "cell_type": "code",
   "execution_count": 294,
   "metadata": {},
   "outputs": [
    {
     "data": {
      "text/plain": [
       "[{'portfolio_max_size': 2,\n",
       "  'dickey-fuller': 3,\n",
       "  'fisher': -0.5,\n",
       "  'meia-vida': 10,\n",
       "  'media_n': 0.5,\n",
       "  'desvio-padrao': 2.0,\n",
       "  'periodo': 100,\n",
       "  'variancia_beta': 0.11,\n",
       "  'dagostino-person': 0.05},\n",
       " {'n_operacoes': 474,\n",
       "  'retorno': 35946.0000000001,\n",
       "  'win_rate': 0.59,\n",
       "  'pay_off': 0.799,\n",
       "  'mdd': 1.071,\n",
       "  'recovery_factor': 1.174}]"
      ]
     },
     "execution_count": 294,
     "metadata": {},
     "output_type": "execute_result"
    }
   ],
   "source": [
    "results[1][1]"
   ]
  },
  {
   "cell_type": "code",
   "execution_count": null,
   "metadata": {},
   "outputs": [],
   "source": []
  }
 ],
 "metadata": {
  "kernelspec": {
   "display_name": "Python 3",
   "language": "python",
   "name": "python3"
  },
  "language_info": {
   "codemirror_mode": {
    "name": "ipython",
    "version": 3
   },
   "file_extension": ".py",
   "mimetype": "text/x-python",
   "name": "python",
   "nbconvert_exporter": "python",
   "pygments_lexer": "ipython3",
   "version": "3.6.8"
  },
  "toc": {
   "base_numbering": 1,
   "nav_menu": {},
   "number_sections": true,
   "sideBar": true,
   "skip_h1_title": false,
   "title_cell": "Table of Contents",
   "title_sidebar": "Contents",
   "toc_cell": false,
   "toc_position": {},
   "toc_section_display": true,
   "toc_window_display": false
  },
  "varInspector": {
   "cols": {
    "lenName": 16,
    "lenType": 16,
    "lenVar": 40
   },
   "kernels_config": {
    "python": {
     "delete_cmd_postfix": "",
     "delete_cmd_prefix": "del ",
     "library": "var_list.py",
     "varRefreshCmd": "print(var_dic_list())"
    },
    "r": {
     "delete_cmd_postfix": ") ",
     "delete_cmd_prefix": "rm(",
     "library": "var_list.r",
     "varRefreshCmd": "cat(var_dic_list()) "
    }
   },
   "types_to_exclude": [
    "module",
    "function",
    "builtin_function_or_method",
    "instance",
    "_Feature"
   ],
   "window_display": false
  }
 },
 "nbformat": 4,
 "nbformat_minor": 4
}
